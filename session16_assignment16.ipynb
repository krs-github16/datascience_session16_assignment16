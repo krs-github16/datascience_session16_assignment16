{
 "cells": [
  {
   "cell_type": "code",
   "execution_count": 4,
   "metadata": {},
   "outputs": [
    {
     "name": "stdout",
     "output_type": "stream",
     "text": [
      "probability that a person undertaking that test has answered exactly 5 questions wrong is  3.4264958230778435e-06\n",
      "--------------------------------------------------------------------------------\n"
     ]
    }
   ],
   "source": [
    "# Problem Statement 1:\n",
    "# A test is conducted which is consisting of 20 MCQs (multiple choices questions) with\n",
    "# every MCQ having its four options out of which only one is correct. Determine the\n",
    "# probability that a person undertaking that test has answered exactly 5 questions wrong.\n",
    "\n",
    "import scipy.stats as ss\n",
    "import matplotlib.pyplot as plt\n",
    "\n",
    "n,p = 20, 0.25 # 20 mcq questiions and probability of success is 1/4\n",
    "x = 15     # 5 wrong in other way is 15 correct....\n",
    "\n",
    "\n",
    "pmf= ss.binom.pmf(x,n,p)\n",
    "print(\"probability that a person undertaking that test has answered exactly 5 questions wrong is \",pmf)\n",
    "print(80*'-')"
   ]
  },
  {
   "cell_type": "code",
   "execution_count": 16,
   "metadata": {},
   "outputs": [
    {
     "name": "stdout",
     "output_type": "stream",
     "text": [
      "the probability of getting a “D” exactly 5 times. 0.029531204310523224\n",
      "--------------------------------------------------------------------------------\n"
     ]
    }
   ],
   "source": [
    "# Problem Statement 2:\n",
    "# A die marked A to E is rolled 50 times. Find the probability of getting a “D” exactly 5\n",
    "# times.\n",
    "\n",
    "import scipy.stats as ss\n",
    "import matplotlib.pyplot as plt\n",
    "\n",
    "n,p = 50, 0.2 # rolled 50 times and probability of success is 1/5\n",
    "x = 5     # getting \"D\" exactly 5 times\n",
    "\n",
    "pmf= ss.binom.pmf(x,n,p)\n",
    "print(\"the probability of getting a “D” exactly 5 times.\",pmf)\n",
    "print(80*'-')"
   ]
  },
  {
   "cell_type": "code",
   "execution_count": 14,
   "metadata": {},
   "outputs": [
    {
     "name": "stdout",
     "output_type": "stream",
     "text": [
      "possible probabilities include: \n",
      "rr:  0.13333333333333333\n",
      "rb:  0.26666666666666666\n",
      "br:  0.26666666666666666\n",
      "bb:  0.3333333333333333\n"
     ]
    }
   ],
   "source": [
    "# Problem Statement 3:\n",
    "# Two balls are drawn at random in succession without replacement from an urn\n",
    "# containing 4 red balls and 6 black balls.\n",
    "# Find the probabilities of all the possible outcomes.\n",
    "\n",
    "r=4\n",
    "b=6\n",
    "\n",
    "# possibilities are (r,r),(r,b),(b,r),(b,b)\n",
    "\n",
    "print(\"possible probabilities include: \")\n",
    "\n",
    "rr= (r/(r+b))*((r-1)/(r+b-1))\n",
    "\n",
    "print(\"rr: \",rr)\n",
    "\n",
    "rb= (r/(r+b))*((b)/(r+b-1))\n",
    "\n",
    "print(\"rb: \",rb)\n",
    "\n",
    "br= (b/(r+b))*((r)/(r+b-1))\n",
    "\n",
    "print(\"br: \",br)\n",
    "\n",
    "bb= (b/(r+b))*((b-1)/(r+b-1))\n",
    "\n",
    "print(\"bb: \",bb)"
   ]
  },
  {
   "cell_type": "code",
   "execution_count": 15,
   "metadata": {},
   "outputs": [
    {
     "name": "stdout",
     "output_type": "stream",
     "text": [
      "End of the assignment\n"
     ]
    }
   ],
   "source": [
    "print(\"End of the assignment\")"
   ]
  }
 ],
 "metadata": {
  "kernelspec": {
   "display_name": "Python 3",
   "language": "python",
   "name": "python3"
  },
  "language_info": {
   "codemirror_mode": {
    "name": "ipython",
    "version": 3
   },
   "file_extension": ".py",
   "mimetype": "text/x-python",
   "name": "python",
   "nbconvert_exporter": "python",
   "pygments_lexer": "ipython3",
   "version": "3.6.5"
  }
 },
 "nbformat": 4,
 "nbformat_minor": 2
}
